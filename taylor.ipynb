{
 "cells": [
  {
   "cell_type": "code",
   "execution_count": 4,
   "metadata": {},
   "outputs": [
    {
     "name": "stdout",
     "output_type": "stream",
     "text": [
      "Help on built-in function asin in module math:\n",
      "\n",
      "asin(x, /)\n",
      "    Return the arc sine (measured in radians) of x.\n",
      "\n",
      "None 0.41151684606748806\n",
      "Help on function my_arcsin in module __main__:\n",
      "\n",
      "my_arcsin(x)\n",
      "    Вычисление арксинуса при помощи частичного суммирования\n",
      "    ряда Тейлора для окрестности 0\n",
      "\n",
      "None 0.41151684606748806\n"
     ]
    }
   ],
   "source": [
    "import math\n",
    "\n",
    "ITERATIONS = 20\n",
    "\n",
    "\n",
    "def my_arcsin(x):\n",
    "    \"\"\"\n",
    "    Вычисление арксинуса при помощи частичного суммирования\n",
    "    ряда Тейлора для окрестности 0\n",
    "    \"\"\"\n",
    "    x_pow = x\n",
    "    multiplier = 1\n",
    "    partial_sum = x\n",
    "    for n in range(1, ITERATIONS):\n",
    "        x_pow *= x**2  # В цикле постепенно считаем степень\n",
    "        multiplier *= 2*n*(2*n-1)**2 / 4 / n**2 / (2*n + 1)\n",
    "        partial_sum += x_pow * multiplier\n",
    "\n",
    "    return partial_sum\n",
    "\n",
    "print(help(math.asin), math.asin(0.4))\n",
    "print(help(my_arcsin), my_arcsin(0.4))\n"
   ]
  },
  {
   "cell_type": "code",
   "execution_count": null,
   "metadata": {},
   "outputs": [],
   "source": []
  }
 ],
 "metadata": {
  "kernelspec": {
   "display_name": "Python 3",
   "language": "python",
   "name": "python3"
  },
  "language_info": {
   "codemirror_mode": {
    "name": "ipython",
    "version": 3
   },
   "file_extension": ".py",
   "mimetype": "text/x-python",
   "name": "python",
   "nbconvert_exporter": "python",
   "pygments_lexer": "ipython3",
   "version": "3.8.5"
  }
 },
 "nbformat": 4,
 "nbformat_minor": 4
}
