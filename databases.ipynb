{
 "cells": [
  {
   "cell_type": "code",
   "execution_count": 1,
   "metadata": {},
   "outputs": [],
   "source": [
    "import sqlalchemy\n",
    "from sqlalchemy import Table, Column, Integer, String, MetaData, ForeignKey, PrimaryKeyConstraint, UniqueConstraint, ForeignKeyConstraint\n",
    "from sqlalchemy.orm import sessionmaker, relationship\n",
    "from sqlalchemy.ext.declarative import declarative_base\n",
    "\n",
    "DeclBase = declarative_base()"
   ]
  },
  {
   "cell_type": "code",
   "execution_count": 2,
   "metadata": {},
   "outputs": [],
   "source": [
    "engine = sqlalchemy.create_engine('sqlite:///students.sqlite3', echo=False)\n",
    "Session = sessionmaker(bind=engine)\n",
    "session = Session()"
   ]
  },
  {
   "cell_type": "code",
   "execution_count": 3,
   "metadata": {},
   "outputs": [],
   "source": [
    "class Program(DeclBase):\n",
    "    __tablename__ = 'programs'\n",
    "    __table_args__ = {'extend_existing': True}\n",
    "    id = Column(Integer, primary_key=True)\n",
    "    name = Column(String)\n",
    "\n",
    "    students = relationship(\"Student\", backref=\"program\")\n",
    "    program_courses = relationship(\"Programs_course\", backref=\"program\")\n",
    "\n",
    "    def __init__(self, name):\n",
    "        self.name = name\n",
    "\n",
    "class Student(DeclBase):\n",
    "    __tablename__ = 'students'\n",
    "    __table_args__ = {'extend_existing': True}\n",
    "    id = Column(Integer, primary_key=True)\n",
    "    card = Column(String)\n",
    "    surname = Column(String)\n",
    "    name = Column(String)\n",
    "    patronymic = Column(String)\n",
    "    \n",
    "    program_id = Column(Integer, ForeignKey('programs.id'))\n",
    "    marks = relationship(\"Mark\", backref=\"student\")\n",
    "    \n",
    "    def __init__(self, card, surname, name, patronymic, program):\n",
    "        self.card = card\n",
    "        self.surname = surname\n",
    "        self.name = name\n",
    "        self.patronymic = patronymic\n",
    "        self.program = program\n",
    "        \n",
    "class Course(DeclBase):\n",
    "    __tablename__ = 'courses'\n",
    "    __table_args__ = {'extend_existing': True}\n",
    "    id = Column(Integer, primary_key=True)\n",
    "    name = Column(String)\n",
    "    \n",
    "    programs_courses = relationship(\"Programs_course\", backref=\"course\")\n",
    "    marks = relationship(\"Mark\", backref=\"course\")\n",
    "    \n",
    "    def __init__(self, name):\n",
    "        self.name = name \n",
    "        \n",
    "class Programs_course(DeclBase):\n",
    "    __tablename__ = 'programs_courses'\n",
    "    __table_args__ = {'extend_existing': True}\n",
    "    __table_args__ = (PrimaryKeyConstraint('semester_number', 'course_id', 'program_id'),)\n",
    "   \n",
    "    semester_number = Column(Integer)\n",
    "    course_id = Column(Integer, ForeignKey('courses.id'))\n",
    "    program_id = Column(Integer, ForeignKey('programs.id'))\n",
    "    \n",
    "    def __init__(self, semester_number, course, program):\n",
    "        self.semester_number = semester_number\n",
    "        self.course = course\n",
    "        self.program = program\n",
    "        \n",
    "class Mark(DeclBase):\n",
    "    __tablename__ = 'marks'\n",
    "    __table_args__ = {'extend_existing': True}\n",
    "    __table_args__ = (PrimaryKeyConstraint('student_id', 'course_id'),)\n",
    "    mark = Column(Integer)\n",
    "    \n",
    "    student_id = Column(Integer, ForeignKey('students.id'))\n",
    "    course_id = Column(Integer, ForeignKey('courses.id'))\n",
    "    \n",
    "    def __init__(self, mark, student, course):\n",
    "        self.mark = mark\n",
    "        self.student = student\n",
    "        self.course = course"
   ]
  },
  {
   "cell_type": "code",
   "execution_count": 4,
   "metadata": {},
   "outputs": [
    {
     "name": "stdout",
     "output_type": "stream",
     "text": [
      "Программы и студенты\n",
      "Программа:  математика и информационные технологии\n",
      "-  Антон\n",
      "-  Василий\n",
      "Программа:  теоретическая физика\n",
      "-  Виолетта\n",
      "-  Исидора\n",
      "Программа:  Программная инженерия\n",
      "-  Пётр\n"
     ]
    }
   ],
   "source": [
    "print(\"Программы и студенты\")\n",
    "for p in session.query(Program):\n",
    "    print(\"Программа: \", p.name)\n",
    "    for s in p.students:\n",
    "        print(\"- \", s.name)"
   ]
  },
  {
   "cell_type": "code",
   "execution_count": 5,
   "metadata": {},
   "outputs": [],
   "source": [
    "co = Course(\"Нанобиотехнологии\")\n",
    "p = Program(\"Биоинформатика\")\n",
    "\n",
    "pc1 = Programs_course(\"2\", co, p)\n",
    "\n",
    "session.add(pc1)\n",
    "try:\n",
    "    session.commit()\n",
    "except:\n",
    "    raise\n",
    "finally:\n",
    "    session.close()"
   ]
  },
  {
   "cell_type": "code",
   "execution_count": 6,
   "metadata": {},
   "outputs": [
    {
     "name": "stdout",
     "output_type": "stream",
     "text": [
      "Программы и студенты\n",
      "Программа:  математика и информационные технологии\n",
      "-  Антон Битов None 180101\n",
      "-  Василий Пупкин None 199099\n",
      "Программа:  теоретическая физика\n",
      "-  Виолетта Аргонова None 180201\n",
      "-  Исидора Петрова Ивановна 002003\n",
      "Программа:  Программная инженерия\n",
      "-  Пётр Иванов Сидорович 002002\n",
      "Программа:  Биоинформатика\n",
      "-  4 1 2\n"
     ]
    }
   ],
   "source": [
    "import sys\n",
    "\n",
    "print(\"Программы и студенты\")\n",
    "for p in session.query(Program):\n",
    "    print(\"Программа: \", p.name)\n",
    "    for s in p.students:\n",
    "        print(\"- \", s.name, s.surname, s.patronymic, s.card)\n",
    "    for pc in p.program_courses:\n",
    "        print(\"- \", pc.program_id, pc.course_id, pc.semester_number)\n",
    "session.commit()"
   ]
  },
  {
   "cell_type": "code",
   "execution_count": 7,
   "metadata": {},
   "outputs": [
    {
     "name": "stdout",
     "output_type": "stream",
     "text": [
      "Курсы\n",
      "Курс:  Нанобиотехнологии\n"
     ]
    }
   ],
   "source": [
    "print(\"Курсы\")\n",
    "for p in session.query(Course):\n",
    "    print(\"Курс: \", p.name)"
   ]
  },
  {
   "cell_type": "code",
   "execution_count": 8,
   "metadata": {},
   "outputs": [
    {
     "name": "stdout",
     "output_type": "stream",
     "text": [
      "Программы и студенты\n",
      "Программа:  математика и информационные технологии\n",
      "-  Антон\n",
      "-  Василий\n",
      "Программа:  теоретическая физика\n",
      "-  Исидора\n",
      "Программа:  Программная инженерия\n",
      "-  Пётр\n",
      "Программа:  Биоинформатика\n",
      "-  Виолетта\n"
     ]
    }
   ],
   "source": [
    "pr = session.query(Program).filter_by(name=\"Биоинформатика\")[0]\n",
    "st = session.query(Student).filter_by(name=\"Виолетта\")[0]\n",
    "\n",
    "st.program = pr\n",
    "session.commit()\n",
    "\n",
    "print(\"Программы и студенты\")\n",
    "for p in session.query(Program):\n",
    "    print(\"Программа: \", p.name)\n",
    "    for s in p.students:\n",
    "        print(\"- \", s.name)"
   ]
  },
  {
   "cell_type": "code",
   "execution_count": 9,
   "metadata": {},
   "outputs": [],
   "source": [
    "co = Course(\"Нанотехнологии\")\n",
    "p = Program(\"теоретическая физика\")\n",
    "\n",
    "pc1 = Programs_course(\"4\", co, p)\n",
    "\n",
    "session.add(pc1)\n",
    "try:\n",
    "    session.commit()\n",
    "except:\n",
    "    raise\n",
    "finally:\n",
    "    session.close()"
   ]
  },
  {
   "cell_type": "code",
   "execution_count": 10,
   "metadata": {},
   "outputs": [
    {
     "name": "stdout",
     "output_type": "stream",
     "text": [
      "Программы и студенты\n",
      "Программа:  математика и информационные технологии\n",
      "-  Антон Битов None 180101\n",
      "-  Василий Пупкин None 199099\n",
      "Программа:  теоретическая физика\n",
      "-  Исидора Петрова Ивановна 002003\n",
      "Программа:  Программная инженерия\n",
      "-  Пётр Иванов Сидорович 002002\n",
      "Программа:  Биоинформатика\n",
      "-  Виолетта Аргонова None 180201\n",
      "-  4 1 2\n",
      "Программа:  теоретическая физика\n",
      "-  5 2 4\n"
     ]
    }
   ],
   "source": [
    "import sys\n",
    "\n",
    "print(\"Программы и студенты\")\n",
    "for p in session.query(Program):\n",
    "    print(\"Программа: \", p.name)\n",
    "    for s in p.students:\n",
    "        print(\"- \", s.name, s.surname, s.patronymic, s.card)\n",
    "    for pc in p.program_courses:\n",
    "        print(\"- \", pc.program_id, pc.course_id, pc.semester_number)\n",
    "session.commit()"
   ]
  },
  {
   "cell_type": "code",
   "execution_count": 11,
   "metadata": {},
   "outputs": [
    {
     "name": "stdout",
     "output_type": "stream",
     "text": [
      "Курсы\n",
      "Курс:  Нанобиотехнологии 1\n",
      "Курс:  Нанотехнологии 2\n"
     ]
    }
   ],
   "source": [
    "print(\"Курсы\")\n",
    "for p in session.query(Course):\n",
    "    print(\"Курс: \", p.name, p.id)"
   ]
  },
  {
   "cell_type": "code",
   "execution_count": 12,
   "metadata": {},
   "outputs": [],
   "source": [
    "st = Student(\"006006\", \"Михайлов\", \"Александр\", \"Ильич\", Program(\"Экономика\"))\n",
    "\n",
    "m1 = Mark(\"5\", st, Course(\"Нанотехнологии\"))\n",
    "\n",
    "session.add(m1) \n",
    "session.commit()"
   ]
  },
  {
   "cell_type": "code",
   "execution_count": 13,
   "metadata": {},
   "outputs": [
    {
     "name": "stdout",
     "output_type": "stream",
     "text": [
      "Студенты и оценки: \n",
      "Студент:  Антон\n",
      "Студент:  Виолетта\n",
      "Студент:  Василий\n",
      "Студент:  Пётр\n",
      "Студент:  Исидора\n",
      "Студент:  Александр\n",
      "-  6 3 5\n"
     ]
    }
   ],
   "source": [
    "print(\"Студенты и оценки: \")\n",
    "for p in session.query(Student):\n",
    "    print(\"Студент: \", p.name)\n",
    "    for pc in p.marks:\n",
    "        print(\"- \", pc.student_id, pc.course_id, pc.mark)\n",
    "session.commit()"
   ]
  },
  {
   "cell_type": "code",
   "execution_count": null,
   "metadata": {},
   "outputs": [],
   "source": []
  }
 ],
 "metadata": {
  "kernelspec": {
   "display_name": "Python 3",
   "language": "python",
   "name": "python3"
  },
  "language_info": {
   "codemirror_mode": {
    "name": "ipython",
    "version": 3
   },
   "file_extension": ".py",
   "mimetype": "text/x-python",
   "name": "python",
   "nbconvert_exporter": "python",
   "pygments_lexer": "ipython3",
   "version": "3.9.2"
  }
 },
 "nbformat": 4,
 "nbformat_minor": 4
}
