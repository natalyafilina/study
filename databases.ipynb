{
 "cells": [
  {
   "cell_type": "code",
   "execution_count": 1,
   "metadata": {},
   "outputs": [],
   "source": [
    "import sqlite3 as dbms\n",
    "\n",
    "conn = dbms.connect(\"students.sqlite3\")\n",
    "cursor = conn.cursor()"
   ]
  },
  {
   "cell_type": "code",
   "execution_count": 2,
   "metadata": {},
   "outputs": [],
   "source": [
    "with open(\"11.drop_ddl.sql\", 'r', encoding='utf-8') as f:\n",
    "    drop_ddl = f.read()\n",
    "with open(\"11.create_ddl.sql\", 'r', encoding='utf-8') as f:\n",
    "    create_ddl = f.read()"
   ]
  },
  {
   "cell_type": "code",
   "execution_count": 3,
   "metadata": {},
   "outputs": [],
   "source": [
    "if True:\n",
    "    cursor.executescript(drop_ddl)\n",
    "    conn.commit()\n",
    "if True:\n",
    "    cursor.executescript(create_ddl)\n",
    "    conn.commit()"
   ]
  },
  {
   "cell_type": "code",
   "execution_count": 4,
   "metadata": {},
   "outputs": [],
   "source": [
    "import sqlalchemy\n",
    "from sqlalchemy import Table, Column, Integer, String, MetaData, ForeignKey, PrimaryKeyConstraint, UniqueConstraint, ForeignKeyConstraint\n",
    "from sqlalchemy.orm import sessionmaker, relationship\n",
    "from sqlalchemy.ext.declarative import declarative_base\n",
    "\n",
    "DeclBase = declarative_base()"
   ]
  },
  {
   "cell_type": "code",
   "execution_count": 5,
   "metadata": {},
   "outputs": [],
   "source": [
    "engine = sqlalchemy.create_engine('sqlite:///students.sqlite3', echo=False)\n",
    "Session = sessionmaker(bind=engine)\n",
    "session = Session()"
   ]
  },
  {
   "cell_type": "code",
   "execution_count": 6,
   "metadata": {},
   "outputs": [],
   "source": [
    "null = True\n",
    "class Program(DeclBase):\n",
    "    __tablename__ = 'programs'\n",
    "    __table_args__ = {'extend_existing': True}\n",
    "    id = Column(Integer, primary_key=True)\n",
    "    name = Column(String)\n",
    "\n",
    "    students = relationship(\"Student\", backref=\"program\")\n",
    "    program_courses = relationship(\"Programs_course\", backref=\"program\")\n",
    "\n",
    "    def __init__(self, name):\n",
    "        self.name = name\n",
    "\n",
    "class Student(DeclBase):\n",
    "    __tablename__ = 'students'\n",
    "    __table_args__ = {'extend_existing': True}\n",
    "    id = Column(Integer, primary_key=True)\n",
    "    card = Column(String)\n",
    "    surname = Column(String)\n",
    "    name = Column(String)\n",
    "    patronymic = Column(String)\n",
    "    \n",
    "    program_id = Column(Integer, ForeignKey('programs.id'))\n",
    "    marks = relationship(\"Mark\", backref=\"student\")\n",
    "    \n",
    "    def __init__(self, card, surname, name, patronymic, program):\n",
    "        self.card = card\n",
    "        self.surname = surname\n",
    "        self.name = name\n",
    "        self.patronymic = patronymic\n",
    "        self.program = program\n",
    "        \n",
    "class Course(DeclBase):\n",
    "    __tablename__ = 'courses'\n",
    "    __table_args__ = {'extend_existing': True}\n",
    "    id = Column(Integer, primary_key=True)\n",
    "    name = Column(String)\n",
    "    \n",
    "    programs_courses = relationship(\"Programs_course\", backref=\"course\")\n",
    "    marks = relationship(\"Mark\", backref=\"course\")\n",
    "    \n",
    "    def __init__(self, name):\n",
    "        self.name = name \n",
    "        \n",
    "class Programs_course(DeclBase):\n",
    "    __tablename__ = 'programs_courses'\n",
    "    __table_args__ = {'extend_existing': True}\n",
    "    __table_args__ = (PrimaryKeyConstraint('semester_number', 'course_id', 'program_id'),)\n",
    "   \n",
    "    semester_number = Column(Integer)\n",
    "    course_id = Column(Integer, ForeignKey('courses.id'))\n",
    "    program_id = Column(Integer, ForeignKey('programs.id'))\n",
    "    \n",
    "    def __init__(self, semester_number, course, program):\n",
    "        self.semester_number = semester_number\n",
    "        self.course = course\n",
    "        self.program = program\n",
    "        \n",
    "class Mark(DeclBase):\n",
    "    __tablename__ = 'marks'\n",
    "    __table_args__ = {'extend_existing': True}\n",
    "    __table_args__ = (PrimaryKeyConstraint('student_id', 'course_id'),)\n",
    "    mark = Column(Integer)\n",
    "    \n",
    "    student_id = Column(Integer, ForeignKey('students.id'))\n",
    "    course_id = Column(Integer, ForeignKey('courses.id'))\n",
    "    \n",
    "    def __init__(self, mark, student, course):\n",
    "        self.mark = mark\n",
    "        self.student = student\n",
    "        self.course = course"
   ]
  },
  {
   "cell_type": "code",
   "execution_count": 7,
   "metadata": {},
   "outputs": [
    {
     "name": "stdout",
     "output_type": "stream",
     "text": [
      "Программы и студенты\n"
     ]
    }
   ],
   "source": [
    "print(\"Программы и студенты\")\n",
    "for p in session.query(Program):\n",
    "    print(\"Программа: \", p.name)\n",
    "    for s in p.students:\n",
    "        print(\"- \", s.name)"
   ]
  },
  {
   "cell_type": "code",
   "execution_count": 8,
   "metadata": {},
   "outputs": [],
   "source": [
    "se1 = Program(\"Программная инженерия\")\n",
    "se2 = Program(\"Теоретическая физика\")\n",
    "\n",
    "st1 = Student(\"002002\", \"Михайлов\", \"Артём\", \"Ильич\", se1)\n",
    "st2 = Student(\"002003\", \"Простакова\", \"Виолетта\", \"Игоревна\", se1)\n",
    "st3 = Student(\"002004\", \"Крючков\", \"Ростислав\", \"Макарович\", se2)\n",
    "st4 = Student(\"002005\", \"Лосева\", \"Дарья\", \"Никитична\", se2)\n",
    "\n",
    "session.add_all([st1, st2, st3, st4])\n",
    "session.commit()"
   ]
  },
  {
   "cell_type": "code",
   "execution_count": 9,
   "metadata": {},
   "outputs": [],
   "source": [
    "co1 = Course(\"Нанобиотехнологии\")\n",
    "se3 = Program(\"Биоинформатика\")\n",
    "\n",
    "pc1 = Programs_course(\"2\", co1, se3)\n",
    "\n",
    "session.add(pc1)\n",
    "try:\n",
    "    session.commit()\n",
    "except:\n",
    "    raise\n",
    "finally:\n",
    "    session.close()"
   ]
  },
  {
   "cell_type": "code",
   "execution_count": 10,
   "metadata": {},
   "outputs": [
    {
     "name": "stdout",
     "output_type": "stream",
     "text": [
      "Программы и студенты\n",
      "Программа:  Программная инженерия\n",
      "-  Артём Михайлов Ильич 002002\n",
      "-  Виолетта Простакова Игоревна 002003\n",
      "Программа:  Теоретическая физика\n",
      "-  Ростислав Крючков Макарович 002004\n",
      "-  Дарья Лосева Никитична 002005\n",
      "Программа:  Биоинформатика\n",
      "   -  Биоинформатика Нанобиотехнологии 2\n"
     ]
    }
   ],
   "source": [
    "import sys\n",
    "\n",
    "print(\"Программы и студенты\")\n",
    "for p in session.query(Program):\n",
    "    print(\"Программа: \", p.name)\n",
    "    for s in p.students:\n",
    "        print(\"- \", s.name, s.surname, s.patronymic, s.card)\n",
    "    for pc in p.program_courses:\n",
    "        print(\"   - \", pc.program.name, pc.course.name, pc.semester_number)\n",
    "session.commit()"
   ]
  },
  {
   "cell_type": "code",
   "execution_count": 11,
   "metadata": {},
   "outputs": [
    {
     "name": "stdout",
     "output_type": "stream",
     "text": [
      "Курсы: \n",
      "Курс:  Нанобиотехнологии\n"
     ]
    }
   ],
   "source": [
    "print(\"Курсы: \")\n",
    "for p in session.query(Course):\n",
    "    print(\"Курс: \", p.name)"
   ]
  },
  {
   "cell_type": "code",
   "execution_count": 12,
   "metadata": {},
   "outputs": [
    {
     "name": "stdout",
     "output_type": "stream",
     "text": [
      "Программы и студенты\n",
      "Программа:  Программная инженерия\n",
      "-  Артём\n",
      "Программа:  Теоретическая физика\n",
      "-  Ростислав\n",
      "-  Дарья\n",
      "Программа:  Биоинформатика\n",
      "-  Виолетта\n"
     ]
    }
   ],
   "source": [
    "pr = session.query(Program).filter_by(name=\"Биоинформатика\")[0]\n",
    "st = session.query(Student).filter_by(name=\"Виолетта\")[0]\n",
    "\n",
    "st.program = pr\n",
    "session.commit()\n",
    "\n",
    "print(\"Программы и студенты\")\n",
    "for p in session.query(Program):\n",
    "    print(\"Программа: \", p.name)\n",
    "    for s in p.students:\n",
    "        print(\"- \", s.name)\n",
    "session.commit()"
   ]
  },
  {
   "cell_type": "code",
   "execution_count": 13,
   "metadata": {},
   "outputs": [],
   "source": [
    "co2 = Course(\"Нанотехнологии\")\n",
    "\n",
    "pc2 = Programs_course(\"4\", co2, se2)\n",
    "\n",
    "session.add(pc2)\n",
    "try:\n",
    "    session.commit()\n",
    "except:\n",
    "    raise"
   ]
  },
  {
   "cell_type": "code",
   "execution_count": 14,
   "metadata": {},
   "outputs": [
    {
     "name": "stdout",
     "output_type": "stream",
     "text": [
      "Программы и студенты\n",
      "Программа:  Программная инженерия\n",
      "-  Артём Михайлов Ильич 002002\n",
      "Программа:  Теоретическая физика\n",
      "-  Ростислав Крючков Макарович 002004\n",
      "-  Дарья Лосева Никитична 002005\n",
      "   -  Теоретическая физика Нанотехнологии 4\n",
      "Программа:  Биоинформатика\n",
      "-  Виолетта Простакова Игоревна 002003\n",
      "   -  Биоинформатика Нанобиотехнологии 2\n"
     ]
    }
   ],
   "source": [
    "print(\"Программы и студенты\")\n",
    "for p in session.query(Program):\n",
    "    print(\"Программа: \", p.name)\n",
    "    for s in p.students:\n",
    "        print(\"- \", s.name, s.surname, s.patronymic, s.card)\n",
    "    for pc in p.program_courses:\n",
    "        print(\"   - \", pc.program.name, pc.course.name, pc.semester_number)\n",
    "session.commit()"
   ]
  },
  {
   "cell_type": "code",
   "execution_count": 15,
   "metadata": {},
   "outputs": [
    {
     "name": "stdout",
     "output_type": "stream",
     "text": [
      "Курсы\n",
      "Курс:  Нанобиотехнологии 1\n",
      "Курс:  Нанотехнологии 2\n"
     ]
    }
   ],
   "source": [
    "print(\"Курсы\")\n",
    "for p in session.query(Course):\n",
    "    print(\"Курс: \", p.name, p.id)"
   ]
  },
  {
   "cell_type": "code",
   "execution_count": 16,
   "metadata": {},
   "outputs": [],
   "source": [
    "mr1 = Mark(\"4\", st3, co2)\n",
    "\n",
    "session.add(mr1)\n",
    "try:\n",
    "    session.commit()\n",
    "except:\n",
    "    raise\n",
    "finally:\n",
    "    session.close()"
   ]
  },
  {
   "cell_type": "code",
   "execution_count": 17,
   "metadata": {},
   "outputs": [
    {
     "name": "stdout",
     "output_type": "stream",
     "text": [
      "Студенты и оценки: \n",
      "Студент:  Артём\n",
      "Студент:  Виолетта\n",
      "Студент:  Ростислав\n",
      "-  Ростислав Нанотехнологии 4\n",
      "Студент:  Дарья\n"
     ]
    }
   ],
   "source": [
    "print(\"Студенты и оценки: \")\n",
    "for p in session.query(Student):\n",
    "    print(\"Студент: \", p.name)\n",
    "    for pc in p.marks:\n",
    "        print(\"- \", pc.student.name, pc.course.name, pc.mark)\n",
    "session.commit()"
   ]
  },
  {
   "cell_type": "code",
   "execution_count": 18,
   "metadata": {},
   "outputs": [
    {
     "name": "stdout",
     "output_type": "stream",
     "text": [
      "Курсы\n",
      "Курс:  Нанобиотехнологии 1\n",
      "Курс:  Нанотехнологии 2\n"
     ]
    }
   ],
   "source": [
    "print(\"Курсы\")\n",
    "for p in session.query(Course):\n",
    "    print(\"Курс: \", p.name, p.id)"
   ]
  },
  {
   "cell_type": "code",
   "execution_count": null,
   "metadata": {},
   "outputs": [],
   "source": []
  }
 ],
 "metadata": {
  "kernelspec": {
   "display_name": "Python 3",
   "language": "python",
   "name": "python3"
  },
  "language_info": {
   "codemirror_mode": {
    "name": "ipython",
    "version": 3
   },
   "file_extension": ".py",
   "mimetype": "text/x-python",
   "name": "python",
   "nbconvert_exporter": "python",
   "pygments_lexer": "ipython3",
   "version": "3.9.2"
  }
 },
 "nbformat": 4,
 "nbformat_minor": 4
}
