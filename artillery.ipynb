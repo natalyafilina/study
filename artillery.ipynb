{
 "cells": [
  {
   "cell_type": "code",
   "execution_count": 239,
   "metadata": {},
   "outputs": [],
   "source": [
    "import math\n",
    "\n",
    "MODEL_G = 9.81\n",
    "MODEL_DT = 0.001\n",
    "\n",
    "class Body:\n",
    "    def __init__(self, x, y, vx, vy):\n",
    "        self.x = x\n",
    "        self.y = y\n",
    "        self.vx = vx\n",
    "        self.vy = vy\n",
    "        \n",
    "        self.trajectory_x = []\n",
    "        self.trajectory_y = []\n",
    "        \n",
    "\n",
    "    def advance(self):\n",
    "        self.trajectory_x.append(self.x)\n",
    "        self.trajectory_y.append(self.y)\n",
    "        \n",
    "        if self.x > -self.vx * MODEL_DT:\n",
    "            self.x += self.vx * MODEL_DT\n",
    "        else:\n",
    "            self.x = 0\n",
    "        if self.y > -self.vy * MODEL_DT:\n",
    "            self.y += self.vy * MODEL_DT\n",
    "        else:\n",
    "            self.y = 0\n",
    "        self.vy -= MODEL_G * MODEL_DT\n",
    "        \n",
    "class Rocket(Body):\n",
    "    def __init__(self, x, y):\n",
    "        super().__init__(x, y, 10, 10)\n",
    "        self.m = 2\n",
    "        \n",
    "    def advance(self):\n",
    "        super().advance()\n",
    "        if self.m > 0.002:\n",
    "            dv = MODEL_DT / self.m\n",
    "            self.vx *= (abs(self.vx) + dv) / abs(self.vx)\n",
    "            self.vy *= (abs(self.vy) + dv) / abs(self.vy)\n",
    "            self.m -= 0.002        "
   ]
  },
  {
   "cell_type": "code",
   "execution_count": 244,
   "metadata": {},
   "outputs": [],
   "source": [
    "import numpy as np\n",
    "\n",
    "np.sin\n",
    "\n",
    "b = Body(7.5, 0, 10.5, 10.5)\n",
    "r = Rocket(0, 0)\n",
    "\n",
    "bodies = [b, r]\n",
    "\n",
    "for t in np.r_[0:2.6:MODEL_DT]:\n",
    "    for b in bodies:\n",
    "        b.advance()"
   ]
  },
  {
   "cell_type": "code",
   "execution_count": 245,
   "metadata": {},
   "outputs": [
    {
     "data": {
      "image/png": "[encoded data removed]",
      "text/plain": [
       "<Figure size 432x288 with 1 Axes>"
      ]
     },
     "metadata": {
      "needs_background": "light"
     },
     "output_type": "display_data"
    }
   ],
   "source": [
    "%matplotlib inline\n",
    "from matplotlib import pyplot as pp\n",
    "\n",
    "for b in bodies:\n",
    "    pp.plot(b.trajectory_x, b.trajectory_y)"
   ]
  }
 ],
 "metadata": {
  "kernelspec": {
   "display_name": "Python 3",
   "language": "python",
   "name": "python3"
  },
  "language_info": {
   "codemirror_mode": {
    "name": "ipython",
    "version": 3
   },
   "file_extension": ".py",
   "mimetype": "text/x-python",
   "name": "python",
   "nbconvert_exporter": "python",
   "pygments_lexer": "ipython3",
   "version": "3.8.5"
  }
 },
 "nbformat": 4,
 "nbformat_minor": 4
}
