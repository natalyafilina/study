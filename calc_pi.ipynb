{
 "cells": [
  {
   "cell_type": "code",
   "execution_count": 1,
   "id": "realistic-assurance",
   "metadata": {},
   "outputs": [],
   "source": [
    "from numba import jit, prange\n",
    "import random\n",
    "import math\n",
    "\n",
    "\n",
    "@jit(nopython=True, parallel=True, fastmath=True)\n",
    "def calc_pi_jit_par():\n",
    "    numThrows = 10000\n",
    "    in_circle = 0.0\n",
    "    for _ in prange(0, numThrows, 1):\n",
    "        in_circle_2 = 0.0\n",
    "        for i in range(0, numThrows, 1):\n",
    "            xPos = random.uniform(0, 1)\n",
    "            yPos = random.uniform(0, 1)\n",
    "            if math.hypot(xPos, yPos) <= 1:\n",
    "                in_circle_2 += 1\n",
    "        in_circle += in_circle_2\n",
    "\n",
    "    randpi = (4.0 * in_circle) / numThrows**2\n",
    "    print(randpi)"
   ]
  },
  {
   "cell_type": "code",
   "execution_count": 3,
   "id": "rubber-blame",
   "metadata": {},
   "outputs": [
    {
     "name": "stdout",
     "output_type": "stream",
     "text": [
      "3.14185068\n",
      "3.14163972\n",
      "3.14136076\n",
      "3.14159364\n",
      "3.14146204\n",
      "1.22 s ± 33.6 ms per loop (mean ± std. dev. of 4 runs, 1 loop each)\n"
     ]
    }
   ],
   "source": [
    "calc_pi_jit_par()\n",
    "%timeit -n 1 -r 4 calc_pi_jit_par()"
   ]
  }
 ],
 "metadata": {
  "kernelspec": {
   "display_name": "Python 3",
   "language": "python",
   "name": "python3"
  },
  "language_info": {
   "codemirror_mode": {
    "name": "ipython",
    "version": 3
   },
   "file_extension": ".py",
   "mimetype": "text/x-python",
   "name": "python",
   "nbconvert_exporter": "python",
   "pygments_lexer": "ipython3",
   "version": "3.9.2"
  }
 },
 "nbformat": 4,
 "nbformat_minor": 5
}
