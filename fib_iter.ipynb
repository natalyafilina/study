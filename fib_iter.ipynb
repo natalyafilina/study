{
 "cells": [
  {
   "cell_type": "code",
   "execution_count": 1,
   "metadata": {
    "tags": []
   },
   "outputs": [],
   "source": [
    "import itertools\n",
    "\n",
    "fibs = [1, 0]\n",
    "\n",
    "\n",
    "class Fib:\n",
    "    \"\"\"По объектам этого класса можно получать много чисел Фибоначчи\"\"\"\n",
    "\n",
    "    class _Fib_iter:\n",
    "        \"\"\"Внутренний класс — итератор\"\"\"\n",
    "        def __init__(self):\n",
    "            self.i = 0\n",
    "\n",
    "        def __next__(self):\n",
    "            cmp = fibs[0]\n",
    "            fibs[0] = fibs[1]\n",
    "            fibs[1] = cmp + fibs[1]\n",
    "            return fibs[1]\n",
    "\n",
    "    def __iter__(self):\n",
    "        \"\"\"Создать и вернуть итератор\"\"\"\n",
    "        return Fib._Fib_iter()"
   ]
  },
  {
   "cell_type": "code",
   "execution_count": 2,
   "metadata": {},
   "outputs": [
    {
     "name": "stdout",
     "output_type": "stream",
     "text": [
      "[1, 1, 2, 3, 5, 8, 13, 21, 34, 55, 89, 144, 233, 377, 610]\n"
     ]
    }
   ],
   "source": [
    "f = Fib()\n",
    "print(list(itertools.islice(f, 15)))"
   ]
  }
 ],
 "metadata": {
  "kernelspec": {
   "display_name": "Python 3",
   "language": "python",
   "name": "python3"
  },
  "language_info": {
   "codemirror_mode": {
    "name": "ipython",
    "version": 3
   },
   "file_extension": ".py",
   "mimetype": "text/x-python",
   "name": "python",
   "nbconvert_exporter": "python",
   "pygments_lexer": "ipython3",
   "version": "3.8.5"
  }
 },
 "nbformat": 4,
 "nbformat_minor": 4
}
